{
 "cells": [
  {
   "cell_type": "code",
   "execution_count": null,
   "id": "0b4f3de5",
   "metadata": {},
   "outputs": [
    {
     "name": "stdout",
     "output_type": "stream",
     "text": [
      "Combined audio saved as 'output.wav' with 16kHz sample rate.\n"
     ]
    }
   ],
   "source": [
    "import torchaudio\n",
    "import torchaudio.transforms as T\n",
    "import torch\n",
    "import soundfile as sf\n",
    "\n",
    "waveform1, sample_rate1 = torchaudio.load('1002.mp3')\n",
    "waveform2, sample_rate2 = torchaudio.load('10013.mp3')\n",
    "\n",
    "if waveform1.shape[0] != waveform2.shape[0]:\n",
    "    raise ValueError(\"Audio files have different number of channels\")\n",
    "\n",
    "# Resample\n",
    "target_rate = 16000\n",
    "resampler1 = T.Resample(orig_freq=sample_rate1, new_freq=target_rate)\n",
    "resampler2 = T.Resample(orig_freq=sample_rate2, new_freq=target_rate)\n",
    "\n",
    "waveform1_resampled = resampler1(waveform1)\n",
    "waveform2_resampled = resampler2(waveform2)\n",
    "\n",
    "# Concatenate\n",
    "combined_waveform = torch.cat((waveform1_resampled, waveform2_resampled), dim=1)\n",
    "\n",
    "sf.write(\"test1.wav\", combined_waveform.squeeze().T.numpy(), target_rate)\n",
    "\n",
    "print(\"Combined audio saved as 'output.wav' with 16kHz sample rate.\")\n"
   ]
  },
  {
   "cell_type": "code",
   "execution_count": null,
   "id": "1cfa1593",
   "metadata": {},
   "outputs": [],
   "source": []
  }
 ],
 "metadata": {
  "kernelspec": {
   "display_name": "mvaakai",
   "language": "python",
   "name": "python3"
  },
  "language_info": {
   "codemirror_mode": {
    "name": "ipython",
    "version": 3
   },
   "file_extension": ".py",
   "mimetype": "text/x-python",
   "name": "python",
   "nbconvert_exporter": "python",
   "pygments_lexer": "ipython3",
   "version": "3.11.11"
  }
 },
 "nbformat": 4,
 "nbformat_minor": 5
}
