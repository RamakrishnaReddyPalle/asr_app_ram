{
 "cells": [
  {
   "cell_type": "markdown",
   "id": "ebeff182",
   "metadata": {},
   "source": [
    "## **Imports**"
   ]
  },
  {
   "cell_type": "code",
   "execution_count": 27,
   "id": "bb4632e3",
   "metadata": {},
   "outputs": [],
   "source": [
    "import os\n",
    "import time\n",
    "import torch\n",
    "import torchaudio\n",
    "import numpy as np\n",
    "import matplotlib.pyplot as plt\n",
    "import seaborn as sns\n",
    "import pandas as pd\n",
    "import onnxruntime as ort\n",
    "from nemo.collections.asr.models import EncDecCTCModel\n",
    "\n",
    "\"\"\"Setting provider and device dynamically\"\"\"\n",
    "device = torch.device(\"cuda\" if torch.cuda.is_available() else \"cpu\")\n",
    "provider = \"CUDAExecutionProvider\" if torch.cuda.is_available() else \"CPUExecutionProvider\""
   ]
  },
  {
   "cell_type": "markdown",
   "id": "4b87587d",
   "metadata": {},
   "source": [
    "## **Input Pre-Processing**"
   ]
  },
  {
   "cell_type": "code",
   "execution_count": null,
   "id": "d20c18de",
   "metadata": {},
   "outputs": [],
   "source": [
    "def preprocess_audio_for_onnx(file_path, target_sr=16000, n_mels=80):\n",
    "    waveform, sample_rate = torchaudio.load(file_path)\n",
    "    \n",
    "    # Convert to mono\n",
    "    if waveform.shape[0] > 1:\n",
    "        waveform = torch.mean(waveform, dim=0, keepdim=True)\n",
    "    \n",
    "    # Resample\n",
    "    if sample_rate != target_sr:\n",
    "        resampler = torchaudio.transforms.Resample(orig_freq=sample_rate, new_freq=target_sr)\n",
    "        waveform = resampler(waveform)\n",
    "    \n",
    "    # Normalize\n",
    "    waveform = waveform / waveform.abs().max()\n",
    "    \n",
    "    # Extracting log-mel spectrogram\n",
    "    mel_spec_transform = torchaudio.transforms.MelSpectrogram(\n",
    "        sample_rate=target_sr,\n",
    "        n_mels=n_mels,\n",
    "        n_fft=400,\n",
    "        win_length=400,\n",
    "        hop_length=160\n",
    "    )\n",
    "    mel_spec = mel_spec_transform(waveform)  # (1, 80, time)\n",
    "    log_mel_spec = torch.log(mel_spec + 1e-9)  # adding epsilon to avoid log(0)\n",
    "    \n",
    "    # Input for ONNX\n",
    "    audio_signal = log_mel_spec.numpy()  # (1, 80, time)\n",
    "    length = np.array([audio_signal.shape[2]], dtype=np.int64)  # (1,)\n",
    "    \n",
    "    return audio_signal, length, waveform"
   ]
  },
  {
   "cell_type": "code",
   "execution_count": 29,
   "id": "26ba14ca",
   "metadata": {},
   "outputs": [
    {
     "name": "stdout",
     "output_type": "stream",
     "text": [
      "audio_signal shape: (1, 80, 997), dtype: float32\n",
      "length shape: (1,), dtype: int64\n"
     ]
    }
   ],
   "source": [
    "audio_signal, length, waveform = preprocess_audio_for_onnx(\"test/test1.wav\")\n",
    "\n",
    "audio_signal = audio_signal.astype(np.float32)  # float32\n",
    "length = length.astype(np.int64)               # int64\n",
    "\n",
    "onnx_input = {\n",
    "    \"audio_signal\": audio_signal,  # shape: (1, 80, time)\n",
    "    \"length\": length               # shape: (1,)\n",
    "}\n",
    "\n",
    "print(f\"audio_signal shape: {audio_signal.shape}, dtype: {audio_signal.dtype}\")\n",
    "print(f\"length shape: {length.shape}, dtype: {length.dtype}\")\n"
   ]
  },
  {
   "cell_type": "markdown",
   "id": "c7044de6",
   "metadata": {},
   "source": [
    "## **NeMo & ONNX ASR Model**"
   ]
  },
  {
   "cell_type": "code",
   "execution_count": 30,
   "id": "3b2c6b40",
   "metadata": {},
   "outputs": [
    {
     "name": "stdout",
     "output_type": "stream",
     "text": [
      "[NeMo I 2025-05-24 22:19:37 nemo_logging:393] Tokenizer SentencePieceTokenizer initialized with 128 tokens\n"
     ]
    },
    {
     "name": "stderr",
     "output_type": "stream",
     "text": [
      "[NeMo W 2025-05-24 22:19:37 nemo_logging:405] If you intend to do training or fine-tuning, please call the ModelPT.setup_training_data() method and provide a valid configuration file to setup the train data loader.\n",
      "    Train config : \n",
      "    manifest_filepath: /code/03_manifest/ulca-train-v3.json\n",
      "    sample_rate: 16000\n",
      "    batch_size: 64\n",
      "    shuffle: true\n",
      "    num_workers: 8\n",
      "    pin_memory: true\n",
      "    use_start_end_token: false\n",
      "    trim_silence: false\n",
      "    max_duration: 16.7\n",
      "    min_duration: 0.1\n",
      "    \n",
      "[NeMo W 2025-05-24 22:19:37 nemo_logging:405] If you intend to do validation, please call the ModelPT.setup_validation_data() or ModelPT.setup_multiple_validation_data() method and provide a valid configuration file to setup the validation data loader(s). \n",
      "    Validation config : \n",
      "    manifest_filepath: /code/manifest/ulca-eval.json\n",
      "    sample_rate: 16000\n",
      "    batch_size: 4\n",
      "    shuffle: false\n",
      "    num_workers: 8\n",
      "    pin_memory: true\n",
      "    use_start_end_token: false\n",
      "    \n",
      "[NeMo W 2025-05-24 22:19:37 nemo_logging:405] Please call the ModelPT.setup_test_data() or ModelPT.setup_multiple_test_data() method and provide a valid configuration file to setup the test data loader(s).\n",
      "    Test config : \n",
      "    manifest_filepath: /code/manifest/ulca-eval.json\n",
      "    sample_rate: 16000\n",
      "    batch_size: 4\n",
      "    shuffle: false\n",
      "    num_workers: 8\n",
      "    pin_memory: true\n",
      "    use_start_end_token: false\n",
      "    \n"
     ]
    },
    {
     "name": "stdout",
     "output_type": "stream",
     "text": [
      "[NeMo I 2025-05-24 22:19:37 nemo_logging:393] PADDING: 0\n",
      "[NeMo I 2025-05-24 22:19:38 nemo_logging:393] Model EncDecCTCModelBPE was successfully restored from d:\\IIT BBS\\Job Resources\\mvaakAI\\asr_app\\model\\stt_hi_conformer_ctc_medium.nemo.\n",
      "[NeMo I 2025-05-24 22:19:43 nemo_logging:393] Successfully exported EncDecCTCModelBPE to model/nemo_conformer_exported.onnx\n"
     ]
    }
   ],
   "source": [
    "# === Original NeMo Model ===\n",
    "asr_model = EncDecCTCModel.restore_from(\"model/stt_hi_conformer_ctc_medium.nemo\").eval().to(device)\n",
    "\n",
    "# Converting to ONNX \n",
    "asr_model.export(\n",
    "    output=\"model/nemo_conformer_exported.onnx\",\n",
    "    onnx_opset_version=13\n",
    ")\n",
    "\n",
    "# === ONNX Model Path ===\n",
    "onnx_model_path = \"model/nemo_conformer_exported.onnx\""
   ]
  },
  {
   "cell_type": "markdown",
   "id": "c14ad777",
   "metadata": {},
   "source": [
    "## **Search Space for Graph Optimization**"
   ]
  },
  {
   "cell_type": "code",
   "execution_count": 31,
   "id": "7b38000b",
   "metadata": {},
   "outputs": [],
   "source": [
    "# === Search Space ===\n",
    "search_space = [\n",
    "    {\"opt_level\": ort.GraphOptimizationLevel.ORT_DISABLE_ALL, \"intra_threads\": 1},\n",
    "    {\"opt_level\": ort.GraphOptimizationLevel.ORT_ENABLE_BASIC, \"intra_threads\": 1},\n",
    "    {\"opt_level\": ort.GraphOptimizationLevel.ORT_ENABLE_EXTENDED, \"intra_threads\": 1},\n",
    "    {\"opt_level\": ort.GraphOptimizationLevel.ORT_ENABLE_ALL, \"intra_threads\": 1},\n",
    "    {\"opt_level\": ort.GraphOptimizationLevel.ORT_ENABLE_ALL, \"intra_threads\": 2},\n",
    "    {\"opt_level\": ort.GraphOptimizationLevel.ORT_ENABLE_ALL, \"intra_threads\": 4},\n",
    "    {\"opt_level\": ort.GraphOptimizationLevel.ORT_ENABLE_ALL, \"intra_threads\": 8},  # NEW\n",
    "    {\"opt_level\": ort.GraphOptimizationLevel.ORT_ENABLE_ALL, \"intra_threads\": 16}, # NEW\n",
    "]\n",
    "\n",
    "results = []"
   ]
  },
  {
   "cell_type": "markdown",
   "id": "d97e79e6",
   "metadata": {},
   "source": [
    "## **ONNX Benchmarks**"
   ]
  },
  {
   "cell_type": "code",
   "execution_count": 32,
   "id": "20cc2e35",
   "metadata": {},
   "outputs": [],
   "source": [
    "# === Benchmark ONNX configs ===\n",
    "for i, cfg in enumerate(search_space):\n",
    "    sess_options = ort.SessionOptions()\n",
    "    sess_options.graph_optimization_level = cfg[\"opt_level\"]\n",
    "    sess_options.intra_op_num_threads = cfg[\"intra_threads\"]\n",
    "    \n",
    "    session = ort.InferenceSession(onnx_model_path, sess_options, providers=[\"CPUExecutionProvider\"])\n",
    "\n",
    "    # Warm-up\n",
    "    _ = session.run(None, onnx_input)\n",
    "\n",
    "    # Time\n",
    "    start = time.time()\n",
    "    for _ in range(5):\n",
    "        preds = session.run(None, onnx_input)\n",
    "    end = time.time()\n",
    "    \n",
    "    avg_time = (end - start) / 5\n",
    "    log_probs = preds[0][0]  # batch=1\n",
    "\n",
    "    # Greedy decode\n",
    "    pred_ids = np.argmax(log_probs, axis=-1)\n",
    "    text = asr_model.decoding.ctc_decoder_predictions_tensor(torch.tensor(pred_ids).unsqueeze(0))[0]\n",
    "\n",
    "    results.append({\n",
    "        \"config\": f\"{cfg['opt_level'].name}-T{cfg['intra_threads']}\",\n",
    "        \"inference_time\": avg_time,\n",
    "        \"prediction\": text\n",
    "    })"
   ]
  },
  {
   "cell_type": "markdown",
   "id": "7b00cc3e",
   "metadata": {},
   "source": [
    "### **NeMo Benchmark**"
   ]
  },
  {
   "cell_type": "code",
   "execution_count": 33,
   "id": "d50d632d",
   "metadata": {},
   "outputs": [],
   "source": [
    "# === Benchmark NeMo PyTorch ===\n",
    "input_signal, input_length = waveform, torch.tensor([waveform.shape[1]]).to(device)\n",
    "\n",
    "with torch.no_grad():\n",
    "    start = time.time()\n",
    "    for _ in range(5):\n",
    "        logits = asr_model(input_signal=input_signal.to(device), input_signal_length=input_length)[0]\n",
    "    end = time.time()\n",
    "\n",
    "    avg_time = (end - start) / 5\n",
    "    pred_ids = torch.argmax(logits, dim=-1)\n",
    "    text = asr_model.decoding.ctc_decoder_predictions_tensor(pred_ids)[0]\n",
    "\n",
    "\n",
    "    results.append({\n",
    "        \"config\": \"NeMo_PyTorch\",\n",
    "        \"inference_time\": avg_time,\n",
    "        \"prediction\": text\n",
    "    })"
   ]
  },
  {
   "cell_type": "markdown",
   "id": "dedf97fa",
   "metadata": {},
   "source": [
    "## **Inference Times**"
   ]
  },
  {
   "cell_type": "code",
   "execution_count": 34,
   "id": "67c6acca",
   "metadata": {},
   "outputs": [
    {
     "data": {
      "image/png": "[encoded data removed]",
      "text/plain": [
       "<Figure size 1400x600 with 1 Axes>"
      ]
     },
     "metadata": {},
     "output_type": "display_data"
    }
   ],
   "source": [
    "# === DataFrame ===\n",
    "df = pd.DataFrame(results).sort_values(\"inference_time\")\n",
    "\n",
    "# === Plots - Inference Times ===\n",
    "plt.figure(figsize=(14, 6))\n",
    "sns.barplot(data=df, x=\"config\", y=\"inference_time\", palette=\"viridis\")\n",
    "plt.title(\"Inference Time Comparison: ONNX vs NeMo PyTorch\")\n",
    "plt.ylabel(\"Avg Time (s)\")\n",
    "plt.xticks(rotation=45)\n",
    "plt.grid(True)"
   ]
  },
  {
   "cell_type": "markdown",
   "id": "1b9ae6dd",
   "metadata": {},
   "source": [
    "## **Best Optimized Model**"
   ]
  },
  {
   "cell_type": "code",
   "execution_count": 35,
   "id": "cd0ad903",
   "metadata": {},
   "outputs": [
    {
     "name": "stdout",
     "output_type": "stream",
     "text": [
      "\n",
      "Best Optimized Config:\n",
      "config                                            ORT_ENABLE_ALL-T4\n",
      "inference_time                                             0.207768\n",
      "prediction        Hypothesis(score=-1.0, y_sequence=tensor([128,...\n",
      "Name: 5, dtype: object\n"
     ]
    }
   ],
   "source": [
    "# === Best Config\n",
    "best_config = df.iloc[0]\n",
    "print(\"\\nBest Optimized Config:\")\n",
    "print(best_config)"
   ]
  },
  {
   "cell_type": "code",
   "execution_count": null,
   "id": "59acdf41",
   "metadata": {},
   "outputs": [
    {
     "name": "stdout",
     "output_type": "stream",
     "text": [
      " Best ONNX model saved to model/nemo_conformer_optimized_ORT_ENABLE_ALL_T4.onnx\n"
     ]
    }
   ],
   "source": [
    "best_onnx = df[df[\"config\"] != \"NeMo_PyTorch\"].sort_values(\"inference_time\").iloc[0]\n",
    "\n",
    "best_onnx_path = \"model/best_optimized_onnx_model.onnx\"\n",
    "os.rename(\"model/nemo_conformer_exported.onnx\", best_onnx_path)\n",
    "\n",
    "print(f\"Best ONNX model saved as: {best_onnx_path}\")\n"
   ]
  }
 ],
 "metadata": {
  "kernelspec": {
   "display_name": "mvaakai",
   "language": "python",
   "name": "python3"
  },
  "language_info": {
   "codemirror_mode": {
    "name": "ipython",
    "version": 3
   },
   "file_extension": ".py",
   "mimetype": "text/x-python",
   "name": "python",
   "nbconvert_exporter": "python",
   "pygments_lexer": "ipython3",
   "version": "3.11.11"
  }
 },
 "nbformat": 4,
 "nbformat_minor": 5
}
